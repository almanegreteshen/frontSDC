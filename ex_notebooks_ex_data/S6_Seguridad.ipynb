{
 "cells": [
  {
   "cell_type": "markdown",
   "metadata": {},
   "source": [
    "# Section 6: Seguridad "
   ]
  },
  {
   "cell_type": "code",
   "execution_count": 1,
   "metadata": {
    "code_folding": [],
    "scrolled": true
   },
   "outputs": [],
   "source": [
    "import json\n",
    "import pandas as pd\n",
    "from itertools import zip_longest as zip\n",
    "from itertools import  count\n",
    "import numpy as np\n",
    "import codecs\n",
    "import numpy as np\n",
    "import matplotlib.pyplot as plt\n",
    "import seaborn as sns; sns.set()\n",
    "\n",
    "## A. Writing Json file with format \n",
    "def write_json_UTF8(jsonDir, name_file):\n",
    "    with open(name_file, 'w') as outfile:\n",
    "        json.dump(jsonDir, outfile, ensure_ascii=False)\n",
    "    with codecs.open(name_file, 'r', encoding = \"iso-8859-1\") as file:\n",
    "          lines = file.read()\n",
    "    with codecs.open(name_file, 'w', encoding = 'utf8') as file:\n",
    "          file.write(lines)\n",
    "    print(\"CREATED: \", name_file)\n",
    "\n",
    "## B. Fixing numbers    \n",
    "def repair_num(value):\n",
    "    try:\n",
    "        aux=float(value)\n",
    "    except:\n",
    "        \"Existe algun signo\"\n",
    "        aux=\"\"\n",
    "        for letra in str(value):\n",
    "            if letra.isdigit():\n",
    "                aux=aux+letra\n",
    "            elif letra ==\".\":\n",
    "                aux=aux+letra\n",
    "        if aux==\"\":\n",
    "            pass\n",
    "    \n",
    "    return float(aux)\n",
    "\n",
    "## C. Formating Json\n",
    "def DataToJson(df,varible_v,variable_meaning,reg_name, toolTip_v, toolTip_mening, norm=False):\n",
    "\n",
    "    globalDir={}\n",
    "    anioInit=-999\n",
    "    listData=[]\n",
    "    dirData={}\n",
    "    initDir=True\n",
    "    df_norm=None\n",
    "    if norm:\n",
    "        df_copy=df.copy()\n",
    "        df_norm=(df_copy[varible_v]-df_copy[varible_v].min())/(df_copy[varible_v].max()-df_copy[varible_v].min())\n",
    "    \n",
    "    for i, anio, mes, var_value  in zip(count(), df[\"anio\"], df[\"mesSTR\"], df[varible_v]):\n",
    "        try:\n",
    "            anio=int(anio)\n",
    "        except:\n",
    "            print(\"set:\",anio)\n",
    "            listData.append(dirData)\n",
    "            break\n",
    "            \n",
    "        #Si todas son nan no sirve\n",
    "        L=0\n",
    "        for index ,v_reg in enumerate(varible_v):\n",
    "            if str(df[v_reg].values[i]) == \"nan\":\n",
    "                L=L+1\n",
    "        if L==len(varible_v):\n",
    "            print(\"allNone\",anio)\n",
    "            continue   \n",
    "\n",
    "        if anioInit<anio:\n",
    "            if anioInit>0:\n",
    "                listData.append(dirData)\n",
    "                dirData={}   \n",
    "                initDir=True\n",
    "\n",
    "        if initDir:\n",
    "            dirData[\"anio\"]=anio\n",
    "            dirData[\"regiones\"]={}\n",
    "            for index ,v_reg in enumerate(varible_v):\n",
    "                dirData[\"regiones\"][reg_name[index]]={\"meses\":{}}\n",
    "\n",
    "            initDir=False\n",
    "\n",
    "        for index ,v_reg in enumerate(varible_v):\n",
    "            dirData[\"regiones\"][reg_name[index]][\"meses\"][mes]={}\n",
    "\n",
    "        for index ,v_reg in enumerate(varible_v):\n",
    "            #dirData[\"regiones\"][reg_name[index]][\"meses\"][mes][\"indicar_principal\"]=df[v_reg].values[i]\n",
    "            if norm:\n",
    "                dirData[\"regiones\"][reg_name[index]][\"meses\"][mes][variable_meaning[index ]]=round(float(df_norm[v_reg].values[i]),4)\n",
    "                if (df_norm[v_reg].values[i]) ==\"nan\":\n",
    "                    del dirData[\"regiones\"][reg_name[index]][\"meses\"][mes]\n",
    "                    break\n",
    "            else:\n",
    "                # si no hayd data\n",
    "                data_value= repair_num(df[v_reg].values[i])\n",
    "                \"\"\"\n",
    "                try:\n",
    "                    data_value=float(df[v_reg].values[i])\n",
    "                except:\n",
    "                    \"Existe algun signo\"\n",
    "                    aux=\"\"\n",
    "                    for letra in str(df[v_reg].values[i]):\n",
    "                        if letra.isdigit():\n",
    "                            aux=aux+letra\n",
    "                        elif letra ==\".\":\n",
    "                            aux=aux+letra\n",
    "                            \n",
    "                    data_value=float(aux)\n",
    "                \n",
    "                \"\"\"  \n",
    "                if str(data_value).lower()==\"nan\" or len(str(data_value).lower())==0:\n",
    "                    data_value=0\n",
    "                if data_value- int(data_value)>0.0001:\n",
    "                    data_value=round(data_value,1)\n",
    "                else:\n",
    "                    data_value=int(data_value)\n",
    "                dirData[\"regiones\"][reg_name[index]][\"meses\"][mes][variable_meaning[index ]]=data_value\n",
    "                if (df[v_reg].values[i]) ==\"nan\":\n",
    "                    del dirData[\"regiones\"][reg_name[index]][\"meses\"][mes]\n",
    "                    break\n",
    "                    \n",
    "            if len(toolTip_v[index])>0:\n",
    "                toolTip_values=[str(df[x].values[i]) for x in toolTip_v[index]]\n",
    "                tip={}\n",
    "                #print(index, v_reg, i, df[v_reg].values[i])\n",
    "                data_value= repair_num(df[v_reg].values[i])\n",
    "                \"\"\"\n",
    "                try:\n",
    "                    data_value=float(df[v_reg].values[i])\n",
    "                except:\n",
    "                    \"Existe algun signo\"\n",
    "                    aux=\"\"\n",
    "                    for letra in str(df[v_reg].values[i]):\n",
    "                        if letra.isdigit():\n",
    "                            aux=aux+letra\n",
    "                        elif letra ==\".\":\n",
    "                            aux=aux+letra\n",
    "                            \n",
    "                    data_value=float(aux)\n",
    "                \n",
    "                \"\"\"\n",
    "                \n",
    "                if str(data_value).lower()==\"nan\":\n",
    "                    data_value=\"No data\"\n",
    "                else:\n",
    "                    if data_value- int(data_value)>0.0001:\n",
    "                        data_value=round(data_value,1)\n",
    "                    else:\n",
    "                        data_value=int(data_value)\n",
    "                tip[variable_meaning[index ]]=data_value\n",
    "\n",
    "                # add data to tooltipe            \n",
    "                tip[\"Fecha: \"]=str(int(df[\"anio\"].values[i]))+\"/ \"+   df[\"mesSTR\"].values[i]   \n",
    "                for indexTool, name in enumerate( toolTip_mening[index]):\n",
    "                    tip[name]=toolTip_values[indexTool]\n",
    "                                                \n",
    "                dirData[\"regiones\"][reg_name[index]][\"meses\"][mes][\"tooltip\"]=tip\n",
    "            else:\n",
    "                dirData[\"regiones\"][reg_name[index]][\"meses\"][mes][\"tooltip\"]={}\n",
    "        anioInit=anio\n",
    "        \n",
    "    return listData\n",
    "\n",
    "## D. Creating image to download\n",
    "def create_image(df,varible_v,variable_meaning,save_dir):\n",
    "    print(\"img\",varible_v,variable_meaning)\n",
    "    objetive_var=varible_v\n",
    "    plt.close()\n",
    "    plt.clf()\n",
    "    df['date'] = df[\"Mes\"].map(str)+ '-' +df[\"anio\"].map(str)\n",
    "    df['date'] = pd.to_datetime(df['date'], format='%m-%Y').dt.strftime('%m-%Y')\n",
    "    date=[]\n",
    "    val=[]\n",
    "    for i,value in enumerate(df[objetive_var]):\n",
    "        if str(value)==\"nan\":\n",
    "            continue\n",
    "        else:\n",
    "            value=repair_num(value)\n",
    "            val.append(value)\n",
    "            date.append(df['date'].values[i])\n",
    "            \n",
    "    df = pd.DataFrame(columns=['date', objetive_var])\n",
    "    df['date'] = date\n",
    "    df[objetive_var]=val\n",
    "    fig, ax = plt.subplots()\n",
    "    sns.set_style(\"darkgrid\")\n",
    "#     print (len(df['date']), len(df[objetive_var]))\n",
    "    ax = sns.lineplot(x=range(0,len(df['date'])), y=df[objetive_var])\n",
    "\n",
    "    \"\"\"\n",
    "    max_xticks = 11\n",
    "    xloc = plt.MaxNLocator(max_xticks)\n",
    "    print(xloc)\n",
    "    ax.xaxis.set_major_locator(xloc)\n",
    "    \"\"\"\n",
    "    names=[]\n",
    "    ran=int((len(df['date'])+.5)/10)\n",
    "    if ran==0:\n",
    "        ran=1\n",
    "    if len(df['date']) / ran < 10:\n",
    "        ran=1\n",
    "    names=[df['date'].values[d] for d in range(0,len(df['date']),ran)]\n",
    "    ticklabels = names\n",
    "    ax.set_xticks(range(0,len(df['date'])+1,ran))\n",
    "    ax.set_xticklabels(ticklabels)\n",
    "    fig.autofmt_xdate()\n",
    "    plt.title(variable_meaning)\n",
    "    plt.ylabel(variable_meaning)\n",
    "    plt.savefig(save_dir, dpi=100)\n",
    "    plt.show()  \n",
    "\n",
    "def naming_image(x):\n",
    "    return global_dir + \"/img/\" + init_data_name + x + '.png'\n",
    "\n",
    "def naming_file(y):\n",
    "    return global_dir + \"/\" + init_data_name + y + '.json'       \n",
    "    \n",
    "## E. Reading Data from API \n",
    "file='seguridad.xlsx'\n",
    "global_dir=\"./data\"\n",
    "norm=False# no normalizada\n",
    "init_data_name=\"Seg_\"\n",
    "link_data = \"https://smartdata-demo.sfo2.digitaloceanspaces.com/data/seguridad.xlsx\"\n",
    "link_img = \"https://smartdata-demo.sfo2.digitaloceanspaces.com/data/img/\"\n",
    "link_glosario=\"https://smartdata-demo.sfo2.digitaloceanspaces.com/data/\"\n",
    "info_header=[ {\"titulo\":None,\"Fuente\":None, \"LinkDatosOriginales\":None, \n",
    "               \"comment\":None, \"linkPlot\":None,\"glosario\":None}]     "
   ]
  },
  {
   "cell_type": "markdown",
   "metadata": {},
   "source": [
    "## Processing Data "
   ]
  },
  {
   "cell_type": "markdown",
   "metadata": {},
   "source": [
    "### 1) Seg_01_Empresas_adherentes.json"
   ]
  },
  {
   "cell_type": "code",
   "execution_count": 2,
   "metadata": {
    "code_folding": [],
    "scrolled": true
   },
   "outputs": [
    {
     "name": "stdout",
     "output_type": "stream",
     "text": [
      "Index(['anio', 'Mes', 'mesSTR', 'Agricultura, ganadería, caza y silvicultura',\n",
      "       'Pesca', 'Explotación de minas y canteras', 'Industrias Manufactureras',\n",
      "       'Suministro de electricidad, gas y agua', 'Construcción',\n",
      "       'Comercio, reparación de vehículos y otros', 'Hoteles y restaurantes',\n",
      "       'Transporte, almacenamiento y comunicaciones',\n",
      "       'Intermediación financiera',\n",
      "       'Actividades inmobiliarias, empresariales y de alquiler',\n",
      "       'Administración pública y defensa; planes de seguridad social',\n",
      "       'Enseñanza', 'Servicios sociales y de salud',\n",
      "       'Otras actividades de servicios comunitarios, sociales y personales',\n",
      "       'Hogares privados con servicio doméstico',\n",
      "       'Organizaciones y órganos extraterritoriales',\n",
      "       'Part_Agricultura, ganadería, caza y silvicultura', 'Part_Pesca',\n",
      "       'Part_Explotación de minas y canteras',\n",
      "       'Part_Industrias Manufactureras',\n",
      "       'Part_Suministro de electricidad, gas y agua', 'Part_Construcción',\n",
      "       'Part_Comercio, reparación de vehículos y otros',\n",
      "       'Part_Hoteles y restaurantes',\n",
      "       'Part_Transporte, almacenamiento y comunicaciones',\n",
      "       'Part_Intermediación financiera',\n",
      "       'Part_Actividades inmobiliarias, empresariales y de alquiler',\n",
      "       'Part_Administración pública y defensa; planes de seguridad social',\n",
      "       'Part_Enseñanza', 'Part_Servicios sociales y de salud',\n",
      "       'Part_Otras actividades de servicios comunitarios, sociales y personales',\n",
      "       'Part_Hogares privados con servicio doméstico',\n",
      "       'Part_Organizaciones y órganos extraterritoriales'],\n",
      "      dtype='object')\n",
      "set: None\n",
      "img Construcción Construccion\n"
     ]
    },
    {
     "data": {
      "text/plain": [
       "<Figure size 432x288 with 0 Axes>"
      ]
     },
     "metadata": {},
     "output_type": "display_data"
    },
    {
     "data": {
      "image/png": "[encoded data removed]",
      "text/plain": [
       "<Figure size 432x288 with 1 Axes>"
      ]
     },
     "metadata": {
      "needs_background": "light"
     },
     "output_type": "display_data"
    },
    {
     "name": "stdout",
     "output_type": "stream",
     "text": [
      "CREATED:  ./data/Seg_01_Empresas_adherentes.json\n"
     ]
    }
   ],
   "source": [
    "sheetname = 'Empresas adherentes'\n",
    "full_file_name = '01_Empresas_adherentes'\n",
    "info_header[0][\"titulo\"]=\"Empresas adherentes al Seguro de Ley sobre accidentes o enfermedad profesional\"\n",
    "info_header[0][\"Fuente\"]=\" Superintendencia de Seguridad Social\"\n",
    "info_header[0][\"LinkDatosOriginales\"]=link_data\n",
    "info_header[0][\"comment\"]= \"Empresas adherentes al Seguro de Ley sobre accidentes o enfermedad profesional. Fuente: Superintendencia de Seguridad Social\"\n",
    "info_header[0][\"linkPlot\"] = link_img + init_data_name + full_file_name + \".png\"\n",
    "info_header[0][\"glosario\"] = \"\"\n",
    "\n",
    "if sheetname=='Empresas adherentes':\n",
    "    df = pd.read_excel( file, sheet_name = sheetname )\n",
    "    print(df.columns)\n",
    "    data=[['Construcción','Part_Construcción']]\n",
    "    dataCorto=[[\"Construccion\",\"Participación\"]]\n",
    "    for index,lista in enumerate(data):\n",
    "        toolTip_v=[[]]\n",
    "        toolTip_mening=[[]]\n",
    "        reg_name=[\"PAIS\"]\n",
    "        for index2,varname in enumerate(lista):\n",
    "            if index2==0:\n",
    "                varible_v=[varname ]\n",
    "                variable_meaning=[dataCorto[index][index2]]\n",
    "            else:\n",
    "                toolTip_v[0].append(varname)\n",
    "                toolTip_mening[0].append(dataCorto[index][index2])\n",
    "    \n",
    "    jsonDir = DataToJson(df,varible_v,variable_meaning,reg_name, toolTip_v, toolTip_mening,norm)\n",
    "    jsonDir = [info_header,jsonDir]\n",
    "    jsonUTF8 = json.dumps(jsonDir, ensure_ascii=False).encode('utf8')\n",
    "    jsonUTF8 = json.loads(jsonUTF8)    \n",
    "    create_image(df, varible_v[0], variable_meaning[0],naming_image(full_file_name))\n",
    "    name_file = naming_file(full_file_name)\n",
    "    with open(name_file , 'w') as outfile:  \n",
    "        json.dump(jsonUTF8, outfile,ensure_ascii=False)\n",
    "    print(\"CREATED: \", name_file)     "
   ]
  },
  {
   "cell_type": "markdown",
   "metadata": {},
   "source": [
    "### 2) Seg_02_Trabajadadores_protegidos.json"
   ]
  },
  {
   "cell_type": "code",
   "execution_count": 3,
   "metadata": {
    "code_folding": []
   },
   "outputs": [
    {
     "name": "stdout",
     "output_type": "stream",
     "text": [
      "Index(['anio', 'Mes', 'mesSTR', 'Agricultura, ganadería, caza y silvicultura',\n",
      "       'Pesca', 'Explotación de minas y canteras', 'Industrias Manufactureras',\n",
      "       'Suministro de electricidad, gas y agua', 'Construcción',\n",
      "       'Comercio, reparación de vehículos y otros', 'Hoteles y restaurantes',\n",
      "       'Transporte, almacenamiento y comunicaciones',\n",
      "       'Intermediación financiera',\n",
      "       'Actividades inmobiliarias, empresariales y de alquiler',\n",
      "       'Administración pública y defensa; planes de seguridad social',\n",
      "       'Enseñanza', 'Servicios sociales y de salud',\n",
      "       'Otras actividades de servicios comunitarios, sociales y personales',\n",
      "       'Hogares privados con servicio doméstico',\n",
      "       'Organizaciones y órganos extraterritoriales',\n",
      "       'Part_Agricultura, ganadería, caza y silvicultura', 'Part_Pesca',\n",
      "       'Part_Explotación de minas y canteras',\n",
      "       'Part_Industrias Manufactureras',\n",
      "       'Part_Suministro de electricidad, gas y agua', 'Part_Construcción',\n",
      "       'Part_Comercio, reparación de vehículos y otros',\n",
      "       'Part_Hoteles y restaurantes',\n",
      "       'Part_Transporte, almacenamiento y comunicaciones',\n",
      "       'Part_Intermediación financiera',\n",
      "       'Part_Actividades inmobiliarias, empresariales y de alquiler',\n",
      "       'Part_Administración pública y defensa; planes de seguridad social',\n",
      "       'Part_Enseñanza', 'Part_Servicios sociales y de salud',\n",
      "       'Part_Otras actividades de servicios comunitarios, sociales y personales',\n",
      "       'Part_Hogares privados con servicio doméstico',\n",
      "       'Part_Organizaciones y órganos extraterritoriales'],\n",
      "      dtype='object')\n",
      "set: None\n",
      "img Construcción Construccion\n"
     ]
    },
    {
     "data": {
      "text/plain": [
       "<Figure size 432x288 with 0 Axes>"
      ]
     },
     "metadata": {},
     "output_type": "display_data"
    },
    {
     "data": {
      "image/png": "[encoded data removed]",
      "text/plain": [
       "<Figure size 432x288 with 1 Axes>"
      ]
     },
     "metadata": {},
     "output_type": "display_data"
    },
    {
     "name": "stdout",
     "output_type": "stream",
     "text": [
      "CREATED:  ./data/Seg_02_Trabajadadores_protegidos.json\n"
     ]
    }
   ],
   "source": [
    "sheetname = 'Trabajadadores protegidos'\n",
    "full_file_name = '02_Trabajadadores_protegidos'\n",
    "info_header[0][\"titulo\"]= \"Trabajadores protegidos por el Seguro de Ley sobre accidentes o enfermedad profesional\"\n",
    "info_header[0][\"Fuente\"]=\" Superintendencia de Seguridad Social\"\n",
    "info_header[0][\"LinkDatosOriginales\"]=link_data\n",
    "info_header[0][\"comment\"]= \"Empresas adherentes al Seguro de Ley sobre accidentes o enfermedad profesional. Fuente: Superintendencia de Seguridad Social\"\n",
    "info_header[0][\"linkPlot\"] = link_img + init_data_name + full_file_name + \".png\"\n",
    "info_header[0][\"glosario\"] = \"\"\n",
    "\n",
    "if sheetname=='Trabajadadores protegidos':\n",
    "    df = pd.read_excel( file, sheet_name = sheetname )\n",
    "    print(df.columns)\n",
    "    data=[['Construcción','Part_Construcción']]\n",
    "    dataCorto=[[\"Construccion\",\"Participación\"]]\n",
    "    for index,lista in enumerate(data):\n",
    "        toolTip_v=[[]]\n",
    "        toolTip_mening=[[]]\n",
    "        reg_name=[\"PAIS\"]\n",
    "        for index2,varname in enumerate(lista):\n",
    "            if index2==0:\n",
    "                varible_v=[varname ]\n",
    "                variable_meaning=[dataCorto[index][index2]]\n",
    "            else:\n",
    "                toolTip_v[0].append(varname)\n",
    "                toolTip_mening[0].append(dataCorto[index][index2])\n",
    "    \n",
    "    jsonDir = DataToJson(df,varible_v,variable_meaning,reg_name, toolTip_v, toolTip_mening,norm)\n",
    "    jsonDir = [info_header,jsonDir]\n",
    "    jsonUTF8 = json.dumps(jsonDir, ensure_ascii=False).encode('utf8')\n",
    "    jsonUTF8 = json.loads(jsonUTF8)    \n",
    "    create_image(df, varible_v[0], variable_meaning[0],naming_image(full_file_name))\n",
    "    name_file = naming_file(full_file_name)\n",
    "    with open(name_file , 'w') as outfile:  \n",
    "        json.dump(jsonUTF8, outfile,ensure_ascii=False)\n",
    "    print(\"CREATED: \", name_file)    "
   ]
  },
  {
   "cell_type": "markdown",
   "metadata": {},
   "source": [
    "### 3) Seg_03_Trabajadadores_protegidos_porRegion.json"
   ]
  },
  {
   "cell_type": "code",
   "execution_count": 4,
   "metadata": {
    "code_folding": []
   },
   "outputs": [
    {
     "name": "stdout",
     "output_type": "stream",
     "text": [
      "set: None\n",
      "img De Arica y Parinacota Trabajadores\n"
     ]
    },
    {
     "data": {
      "text/plain": [
       "<Figure size 432x288 with 0 Axes>"
      ]
     },
     "metadata": {},
     "output_type": "display_data"
    },
    {
     "data": {
      "image/png": "[encoded data removed]",
      "text/plain": [
       "<Figure size 432x288 with 1 Axes>"
      ]
     },
     "metadata": {},
     "output_type": "display_data"
    },
    {
     "name": "stdout",
     "output_type": "stream",
     "text": [
      "CREATED:  ./data/Seg_03_Trabajadadores_protegidos_porRegion.json\n"
     ]
    }
   ],
   "source": [
    "sheetname = 'XREGION'\n",
    "full_file_name = '03_Trabajadadores_protegidos_porRegion'\n",
    "info_header[0][\"titulo\"]= \"Trabajadores protegidos por el Seguro de Ley sobre accidentes o enfermedad profesional por región\"\n",
    "info_header[0][\"Fuente\"]=\"Superintendencia de Seguridad Social\"\n",
    "info_header[0][\"LinkDatosOriginales\"]=link_data\n",
    "info_header[0][\"comment\"]= \"Trabajadores protegidos por el Seguro de Ley sobre accidentes o enfermedad profesional por región. Fuente Superintendencia de Seguridad Social\"\n",
    "info_header[0][\"linkPlot\"] = link_img + init_data_name + full_file_name + \".png\"\n",
    "info_header[0][\"glosario\"]=\"\"\n",
    "\n",
    "if sheetname=='XREGION':\n",
    "    df = pd.read_excel( file, sheet_name = sheetname )\n",
    "    varible_v=[ 'De Arica y Parinacota',\n",
    "        'De Tarapacá',\n",
    "        'De Antofagasta',\n",
    "        'De Atacama',\n",
    "        'De Coquimbo',\n",
    "        'De Valparaíso',\n",
    "        \"Del Libertador Gral. Bdo. O'Higgins\",\n",
    "        'Del Maule',\n",
    "        'De Ñuble',\n",
    "        'Del Biobío',\n",
    "        'De La Araucanía',\n",
    "        'De Los Ríos',\n",
    "        'De Los Lagos',\n",
    "        'Aysén del Gral. Carlos Ibáñez del Campo',\n",
    "        'De Magallanes y la Antártica Chilena',\t'Metropolitana de Santiago'\n",
    "    ]\n",
    "    variable_meaning=[\"Trabajadores\",\"Trabajadores\",\"Trabajadores\",\"Trabajadores\",\n",
    "                      \"Trabajadores\",\"Trabajadores\",\"Trabajadores\",\n",
    "                      \"Trabajadores\",\"Trabajadores\",\"Trabajadores\",\"Trabajadores\",\n",
    "                      \"Trabajadores\",\"Trabajadores\",\"Trabajadores\",\"Trabajadores\",\n",
    "                      \"Trabajadores\",\"Trabajadores\",\"Trabajadores\",\n",
    "                      \"Trabajadores\",\"Trabajadores\",\"Trabajadores\"\n",
    "    ]\n",
    "\n",
    "    #Nombre de la region \n",
    "    reg_name=[ 'De Arica y Parinacota',\n",
    "        'De Tarapacá',\n",
    "        'De Antofagasta',\n",
    "        'De Atacama',\n",
    "        'De Coquimbo',\n",
    "        'De Valparaíso',\n",
    "        \"Del Libertador Gral. Bdo. O'Higgins\",\n",
    "        'Del Maule',\n",
    "        'De Ñuble',\n",
    "        'Del Biobío',\n",
    "        'De La Araucanía',\n",
    "        'De Los Ríos',\n",
    "        'De Los Lagos',\n",
    "        'Aysén del Gral. Carlos Ibáñez del Campo',\n",
    "        'De Magallanes y la Antártica Chilena',\t'Metropolitana de Santiago'\n",
    "    ]\n",
    "\n",
    "    toolTip_v=[\n",
    "        ['Part_De Arica y Parinacota'],\n",
    "        ['Part_De Tarapacá'],\n",
    "        ['Part_De Antofagasta'],\n",
    "        ['Part_De Atacama'],\n",
    "        ['Part_De Coquimbo'],\n",
    "        ['Part_De Valparaíso'],\n",
    "        [\"Part_Del Libertador Gral. Bdo. O'Higgins\"],\n",
    "        ['Part_Del Maule'],\n",
    "        ['Part_De Ñuble'],\n",
    "        ['Part_Del Biobío'],\n",
    "        ['Part_De La Araucanía'],\n",
    "        ['Part_De Los Ríos'],\n",
    "        ['Part_De Los Lagos'],\n",
    "        ['Part_Aysén del Gral. Carlos Ibáñez del Campo'],\n",
    "        ['Part_De Magallanes y la Antártica Chilena'],\n",
    "        ['Part_Metropolitana de Santiago']\n",
    "    ]\n",
    "    \n",
    "    toolTip_mening=[[\"Participación\"],[\"Participación\"],[\"Participación\"],[\"Participación\"],\n",
    "                   [\"Participación\"],[\"Participación\"],[\"Participación\"],[\"Participación\"],\n",
    "                   [\"Participación\"],[\"Participación\"],[\"Participación\"],[\"Participación\"],\n",
    "                   [\"Participación\"],[\"Participación\"],[\"Participación\"],[\"Participación\"],\n",
    "                   [\"Participación\"],[\"Participación\"],[\"Participación\"],[\"Participación\"]\n",
    "    ]\n",
    "    \n",
    "\n",
    "    jsonDir = DataToJson(df,varible_v,variable_meaning,reg_name, toolTip_v, toolTip_mening)\n",
    "    jsonDir = [info_header,jsonDir]\n",
    "    jsonUTF8 = json.dumps(jsonDir, ensure_ascii=False).encode('utf8')\n",
    "    jsonUTF8 = json.loads(jsonUTF8)    \n",
    "    create_image(df, varible_v[0], variable_meaning[0],naming_image(full_file_name))\n",
    "    name_file = naming_file(full_file_name)\n",
    "    with open(name_file , 'w') as outfile:  \n",
    "        json.dump(jsonUTF8, outfile,ensure_ascii=False)\n",
    "    print(\"CREATED: \", name_file)       "
   ]
  },
  {
   "cell_type": "markdown",
   "metadata": {},
   "source": [
    "### 4) Seg_04_Tasa_Accidentes.json"
   ]
  },
  {
   "cell_type": "code",
   "execution_count": 5,
   "metadata": {
    "code_folding": []
   },
   "outputs": [
    {
     "name": "stdout",
     "output_type": "stream",
     "text": [
      "set: None\n",
      "img Tasa acc Tasa acc\n"
     ]
    },
    {
     "data": {
      "text/plain": [
       "<Figure size 432x288 with 0 Axes>"
      ]
     },
     "metadata": {},
     "output_type": "display_data"
    },
    {
     "data": {
      "image/png": "[encoded data removed]",
      "text/plain": [
       "<Figure size 432x288 with 1 Axes>"
      ]
     },
     "metadata": {},
     "output_type": "display_data"
    },
    {
     "name": "stdout",
     "output_type": "stream",
     "text": [
      "CREATED:  ./data/Seg_04_Tasa_Accidentes.json\n"
     ]
    }
   ],
   "source": [
    "sheetname =\"Accidentabilidad2\"\n",
    "full_file_name = '04_Tasa_Accidentes'\n",
    "info_header[0][\"titulo\"] = \"Accidentes, Tasa de accidentabilidad y Tasa de mortalidad\"\n",
    "info_header[0][\"Fuente\"] = \"Encuesta innovación\"\n",
    "info_header[0][\"LinkDatosOriginales\"] = link_data\n",
    "info_header[0][\"comment\"] = \"Los accidentes, enfermedades y tasas de accidentabilidad están sólo disponibles para trabajadores protegidos por Mutuales, sin contabilizar el ISL (Instituto de Seguridad Laboral). Tasa de mortalidad es sólo por acc. del trabajo y corresponde al Nº de fallecidos por acc. del trabajo dividido por el Nº de trabajadores protegidos, por cada 100.000 trabajadores. Fuente: Superintendencia de Seguridad Social\"\n",
    "info_header[0][\"linkPlot\"] = link_img + init_data_name + full_file_name + \".png\"\n",
    "info_header[0][\"glosario\"] = \"\"\n",
    "\n",
    "if sheetname == \"Accidentabilidad2\":\n",
    "    df = pd.read_excel(file, sheet_name=sheetname)\n",
    "    data = [[\"Tasa acc\"]]\n",
    "    dataCorto = [[\"Tasa acc\"]]\n",
    "    for index, lista in enumerate(data):\n",
    "        toolTip_v = [[]]\n",
    "        toolTip_mening = [[]]\n",
    "        reg_name = [\"PAIS\"]\n",
    "        for index2, varname in enumerate(lista):\n",
    "            if index2 == 0:\n",
    "                varible_v = [varname]\n",
    "                variable_meaning = [dataCorto[index][index2]]\n",
    "            else:\n",
    "                toolTip_v[0].append(varname)\n",
    "                toolTip_mening[0].append(dataCorto[index][index2])\n",
    "                \n",
    "    jsonDir = DataToJson(df, varible_v, variable_meaning,reg_name, toolTip_v, toolTip_mening, norm)\n",
    "    jsonDir = [info_header, jsonDir]\n",
    "    jsonUTF8 = json.dumps(jsonDir, ensure_ascii=False).encode('utf8')\n",
    "    jsonUTF8 = json.loads(jsonUTF8)    \n",
    "    create_image(df, varible_v[0], variable_meaning[0],naming_image(full_file_name))\n",
    "    name_file = naming_file(full_file_name)\n",
    "    with open(name_file , 'w') as outfile:  \n",
    "        json.dump(jsonUTF8, outfile,ensure_ascii=False)\n",
    "    print(\"CREATED: \", name_file)    "
   ]
  }
 ],
 "metadata": {
  "kernelspec": {
   "display_name": "Python 3",
   "language": "python",
   "name": "python3"
  },
  "language_info": {
   "codemirror_mode": {
    "name": "ipython",
    "version": 3
   },
   "file_extension": ".py",
   "mimetype": "text/x-python",
   "name": "python",
   "nbconvert_exporter": "python",
   "pygments_lexer": "ipython3",
   "version": "3.6.5"
  }
 },
 "nbformat": 4,
 "nbformat_minor": 2
}
